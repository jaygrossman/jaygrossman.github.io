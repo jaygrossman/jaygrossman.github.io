{
 "cells": [
  {
   "cell_type": "code",
   "execution_count": 1,
   "metadata": {},
   "outputs": [
    {
     "name": "stdout",
     "output_type": "stream",
     "text": [
      "Collecting package metadata (current_repodata.json): done\n",
      "Solving environment: done\n",
      "\n",
      "# All requested packages already installed.\n",
      "\n",
      "\n",
      "Note: you may need to restart the kernel to use updated packages.\n"
     ]
    }
   ],
   "source": [
    "conda install -c conda-forge pdf2image"
   ]
  },
  {
   "cell_type": "code",
   "execution_count": 2,
   "metadata": {},
   "outputs": [
    {
     "name": "stdout",
     "output_type": "stream",
     "text": [
      "Collecting package metadata (current_repodata.json): done\n",
      "Solving environment: done\n",
      "\n",
      "# All requested packages already installed.\n",
      "\n",
      "\n",
      "Note: you may need to restart the kernel to use updated packages.\n"
     ]
    }
   ],
   "source": [
    "conda install -c conda-forge poppler"
   ]
  },
  {
   "cell_type": "code",
   "execution_count": 25,
   "metadata": {},
   "outputs": [],
   "source": [
    "#paths\n",
    "source_file = '/tmp/sample_cards_file.pdf'\n",
    "out_dir = '/tmp/process/'\n",
    " \n",
    "# page setup\n",
    "rows = 3\n",
    "cols = 3\n",
    " \n",
    "# defines where the last run of this left off on (first item will be 1.jpg if 0)\n",
    "starting_count = 0\n",
    " \n",
    "#spacing offsets\n",
    "top_offest = 0\n",
    "left_offset = 260\n",
    "bottom_offset = 0\n",
    "right_offset = 0\n",
    "spacer = 40\n",
    "vert_spacer=0"
   ]
  },
  {
   "cell_type": "code",
   "execution_count": 26,
   "metadata": {},
   "outputs": [],
   "source": [
    "from pdf2image import convert_from_path\n",
    " \n",
    "# function that converts multipage pdf to individual\n",
    "# jpeg images. Function returns list of image paths.\n",
    "def convert_pdf_to_jpegs(pdf_path, out_dir):\n",
    "    file_paths=[]\n",
    "    pages = convert_from_path(pdf_path, 500)\n",
    "    page_count = 1\n",
    "    for page in pages:\n",
    "        image_path=\"{}temp_page_{}.jpg\".format(out_dir, str(page_count))\n",
    "        #add to the list\n",
    "        file_paths.append(image_path)\n",
    "        #save converted file\n",
    "        page.save(image_path, 'JPEG')\n",
    "        page_count += 1\n",
    "    return file_paths"
   ]
  },
  {
   "cell_type": "code",
   "execution_count": 32,
   "metadata": {},
   "outputs": [],
   "source": [
    "from PIL import Image\n",
    "\n",
    "def split_images_from_page(image_path, out_dir, row_count, col_count, start_number):\n",
    "\n",
    "    Im = Image.open(image_path)\n",
    "    full_width = Im.width\n",
    "    full_height = Im.height\n",
    "    image_height = int((full_height - vert_spacer - top_offest - bottom_offset)/ rows)\n",
    "    image_width = int((full_width - spacer - left_offset - right_offset)/ cols)\n",
    "    \n",
    "    \n",
    "    \n",
    "    image_count = 0\n",
    "    row_current=1\n",
    "    while row_current <= row_count:\n",
    "        col_current = 1\n",
    "        while col_current <= col_count:\n",
    "            \n",
    "            croppedIm = Im.crop((left_offset + ((col_current - 1) * image_width) + spacer, top_offest + ((row_current - 1) * image_height), min(left_offset + (col_current * image_width) + ((col_current - 1) * spacer), Im.width), top_offest + (row_current * image_height) + vert_spacer))\n",
    "            #croppedIm = Im.crop((left_offset+((col_current-1)*image_width)+spacer, top_offest+((row_current-1)*image_height), min(left_offset+(col_current*image_width)+((col_current-1)*spacer), Im.width), top_offest+(row_current*image_height)+vert_spacer))\n",
    "            croppedIm.save(\"{}/{}.jpg\".format(out_dir, start_number+image_count))\n",
    "       \n",
    "            col_current+=1\n",
    "            image_count+=1        \n",
    "        row_current+=1\n",
    "\n",
    " "
   ]
  },
  {
   "cell_type": "code",
   "execution_count": 33,
   "metadata": {},
   "outputs": [],
   "source": [
    "import os\n",
    " \n",
    "page_count = 1\n",
    "\n",
    "# convert pdf to jpeg file for each page\n",
    "file_paths = convert_pdf_to_jpegs(source_file, out_dir)\n",
    " \n",
    "# split each page into images\n",
    "for file_path in file_paths:\n",
    "    number_start = starting_count + (page_count-1) * (rows * cols) + 1\n",
    "    split_images_from_page(file_path, out_dir, rows, cols, number_start)\n",
    "    page_count += 1\n",
    " \n",
    "# clean up delete jpeg files for each page\n",
    "for file_path in file_paths:\n",
    "    os.remove(file_path)"
   ]
  },
  {
   "cell_type": "code",
   "execution_count": null,
   "metadata": {},
   "outputs": [],
   "source": []
  },
  {
   "cell_type": "code",
   "execution_count": null,
   "metadata": {},
   "outputs": [],
   "source": []
  }
 ],
 "metadata": {
  "kernelspec": {
   "display_name": "Python 3",
   "language": "python",
   "name": "python3"
  },
  "language_info": {
   "codemirror_mode": {
    "name": "ipython",
    "version": 3
   },
   "file_extension": ".py",
   "mimetype": "text/x-python",
   "name": "python",
   "nbconvert_exporter": "python",
   "pygments_lexer": "ipython3",
   "version": "3.8.3"
  }
 },
 "nbformat": 4,
 "nbformat_minor": 4
}
